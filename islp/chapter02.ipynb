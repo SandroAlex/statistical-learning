{
 "cells": [
  {
   "cell_type": "markdown",
   "id": "4c12f9d8-85b9-4a08-9d9c-4f0982ddba2d",
   "metadata": {},
   "source": [
    "# Initial Setup"
   ]
  }
 ],
 "metadata": {
  "kernelspec": {
   "display_name": "Python 3 (ipykernel)",
   "language": "python",
   "name": "python3"
  },
  "language_info": {
   "codemirror_mode": {
    "name": "ipython",
    "version": 3
   },
   "file_extension": ".py",
   "mimetype": "text/x-python",
   "name": "python",
   "nbconvert_exporter": "python",
   "pygments_lexer": "ipython3",
   "version": "3.10.12"
  }
 },
 "nbformat": 4,
 "nbformat_minor": 5
}
